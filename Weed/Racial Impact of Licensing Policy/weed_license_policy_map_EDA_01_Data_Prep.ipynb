{
 "cells": [
  {
   "cell_type": "markdown",
   "metadata": {},
   "source": [
    "# Albany, NY Legal Marijuana Policy EDA\n",
    "## Part A: Creating `Available Properties Datesets` for Target Census Tracts"
   ]
  },
  {
   "cell_type": "markdown",
   "metadata": {},
   "source": [
    "## Steps to create `Available Properties Datasets` for target census tracts\n",
    "1) Select census tracts.\n",
    "\n",
    "2) Make Mapgeo tool selections that trace census tracts. \n",
    "\n",
    "3) Export the census tract property data as CSV.\n",
    "\n",
    "4) Identify churches and schools based on property metadata (code 612, 615, 620).\n",
    "\n",
    "5) Select the church and school properties in the Mapgeo tool.\n",
    "\n",
    "6) Discover abutters with Mapgeo tool.\n",
    "\n",
    "7) Create `available_datasets` made up of the properties that are outside of abutters zone that would possibly qualify for weed industry licenses in all selected census tracts. Use the following abutter distances (in feet): 500, 200, 100 & 0 (tobacco license).\n",
    "\n",
    "8) Perform analysis on the available properties datasets in seperate notebook: `weed_license_policy_map_EDA_02_Available_Property_Exploration.ipynb`"
   ]
  },
  {
   "cell_type": "code",
   "execution_count": 2,
   "metadata": {},
   "outputs": [],
   "source": [
    "import pandas as pd\n",
    "import numpy as np\n",
    "import re\n",
    "import os\n",
    "import json\n",
    "import matplotlib.pyplot as plt\n",
    "from collections import Counter\n",
    "\n",
    "from helpers import gmap_export_helper, available_df_generator\n",
    "\n",
    "%matplotlib inline "
   ]
  },
  {
   "cell_type": "code",
   "execution_count": 7,
   "metadata": {},
   "outputs": [],
   "source": [
    "df = pd.read_csv(os.path.join('data','censustract_26','censustract_26_mapgeo_propertyinfo.csv'),delimiter=';')\n"
   ]
  },
  {
   "cell_type": "code",
   "execution_count": 10,
   "metadata": {},
   "outputs": [
    {
     "data": {
      "text/plain": [
       "0       631\n",
       "1       633\n",
       "2       210\n",
       "3       210\n",
       "4       210\n",
       "       ... \n",
       "1736    341\n",
       "1737    449\n",
       "1738    853\n",
       "1739    340\n",
       "1740    340\n",
       "Name: Property Class, Length: 1741, dtype: int64"
      ]
     },
     "execution_count": 10,
     "metadata": {},
     "output_type": "execute_result"
    }
   ],
   "source": [
    "df['Property Class']"
   ]
  },
  {
   "cell_type": "markdown",
   "metadata": {},
   "source": [
    "## 1) Select census tracts."
   ]
  },
  {
   "cell_type": "code",
   "execution_count": 2,
   "metadata": {},
   "outputs": [],
   "source": [
    "# ENTER selected Census Tracts in following list variable:\n",
    "CTRACT_LIST = ['01','02','16','17','25','26']\n",
    "DISTANCE_LIST = ['100', '200', '500']"
   ]
  },
  {
   "cell_type": "markdown",
   "metadata": {},
   "source": [
    "## 2) Make Mapgeo tool selections that trace census tracts. \n",
    "[MapGeo URL](https://albanyny.mapgeo.io/)\n",
    "<br>\n",
    "<br>\n",
    "## 3) Export census tract property data as CSV.\n",
    "Remember to use common data structure.\n",
    "<br>\n",
    "<br><i>Example filename: </i>censustract_25_mapgeo_propertyinfo.csv"
   ]
  },
  {
   "cell_type": "markdown",
   "metadata": {},
   "source": [
    "## 4) Identify churches and schools based on property metadata (code 612, 615, 620).\n",
    "[Use this url to get code classification definitions](https://www.tax.ny.gov/research/property/assess/manuals/prclas.htm#commercial)\n",
    "\n",
    "#### 4a) Make a list of church and school property names and addresses.\n",
    "\n"
   ]
  },
  {
   "cell_type": "code",
   "execution_count": null,
   "metadata": {},
   "outputs": [],
   "source": [
    "# Create lists of church and school properties for import into Google Maps\n",
    "# for every census tract.\n",
    "\n",
    "# The custom google map will assist in selecting church and school properties\n",
    "# in the MapGeo tool.\n",
    "\n",
    "# The following `for` loop uses a helpers.py script to save \n",
    "# the property lists in the following directory: \n",
    "#   data > censustract_[#]\n",
    "\n",
    "for ctract in CTRACT_LIST:\n",
    "    gmap_export_helper(ctract)"
   ]
  },
  {
   "cell_type": "markdown",
   "metadata": {},
   "source": [
    "#### 4b) Import names and addresses into Google Map to help find properties in Mapgeo tool.\n",
    "[Google My Maps](https://mymaps.google.com/)"
   ]
  },
  {
   "cell_type": "markdown",
   "metadata": {},
   "source": [
    "## 5) Select the church and school properties in the Mapgeo tool.\n",
    "[MapGeo URL](https://albanyny.mapgeo.io/)\n",
    "<br>\n",
    "<br>\n",
    "## 6) Discover abutters with Mapgeo tool.\n",
    "Properties that are outside of abutters zone would possibly qualify for weed industry licenses [called 'available properties'].\n",
    "<br>[MapGeo URL](https://albanyny.mapgeo.io/)\n",
    "<br>\n",
    "<br>\n",
    "## 7) Prepare `available_datasets` for abutter distances (500, 200, 100 & 0).\n",
    "\n",
    "#### 7a) Screenshot the various abutter results with USDO district overlay. \n",
    "Use the following sites to define USDO Districts:\n",
    "- [USDO District Definitions](https://ecode360.com/documents/AL0934/source/eX-AL0934-1497472247239.pdf)\n",
    "- https://www.albanyny.gov/803/Land-Use-Zoning\n",
    "- https://ecode360.com/7686425\n",
    "\n",
    "#### 7b) Export the abutter property metadata as CSV.\n",
    "Remember to use common data structure.\n",
    "<br>\n",
    "<br><i>Example filename: </i>censustract_25_available_properties_100ft.csv"
   ]
  },
  {
   "cell_type": "markdown",
   "metadata": {},
   "source": [
    "#### 7c) Remove the abutter properties from the total properties in census tract to get total available census tract properties at the current abutter distance."
   ]
  },
  {
   "cell_type": "code",
   "execution_count": 3,
   "metadata": {},
   "outputs": [
    {
     "name": "stderr",
     "output_type": "stream",
     "text": [
      "c:\\Users\\Marco\\Desktop\\THM Consulting\\Weed\\Research\\Weed Policy Mapping\\helpers.py:116: SettingWithCopyWarning: \n",
      "A value is trying to be set on a copy of a slice from a DataFrame\n",
      "\n",
      "See the caveats in the documentation: https://pandas.pydata.org/pandas-docs/stable/user_guide/indexing.html#returning-a-view-versus-a-copy\n",
      "  available_df.dropna(inplace=True)\n",
      "c:\\Users\\Marco\\Desktop\\THM Consulting\\Weed\\Research\\Weed Policy Mapping\\helpers.py:117: SettingWithCopyWarning: \n",
      "A value is trying to be set on a copy of a slice from a DataFrame.\n",
      "Try using .loc[row_indexer,col_indexer] = value instead\n",
      "\n",
      "See the caveats in the documentation: https://pandas.pydata.org/pandas-docs/stable/user_guide/indexing.html#returning-a-view-versus-a-copy\n",
      "  available_df[\"census_tract\"] = ctract\n"
     ]
    }
   ],
   "source": [
    "# Create datasets properties that are outside of various\n",
    "# abuttment distances in selected census tracts.\n",
    "\n",
    "# The following `for` loop uses a helpers.py script to generate \n",
    "# the available property lists in the following directory: \n",
    "#   data > censustract_[#]\n",
    "\n",
    "#for ctract in CTRACT_LIST:\n",
    "    #gmap_export_helper(ctract)\n",
    "\n",
    "for ctract in CTRACT_LIST:\n",
    "    for distance in DISTANCE_LIST:\n",
    "        available_df_generator(ctract, distance)"
   ]
  },
  {
   "cell_type": "markdown",
   "metadata": {},
   "source": [
    "#### 7d) Step 7c results in available_datasets for the various abutter distances (500, 200, 100 & 0 [control / tobacco license]) in each census tract.\n",
    "<i>Example filename:</i> available_dataset_tract25_100ft.csv \n",
    "<br><br>Make sure to use ';' as delimiters!!!"
   ]
  },
  {
   "cell_type": "markdown",
   "metadata": {},
   "source": [
    "## 8) Analyze `available_datasets` in seperate notebook.\n",
    "<i>analysis notebook name...</i>"
   ]
  }
 ],
 "metadata": {
  "interpreter": {
   "hash": "bd967e6073c831b810a9807d2f67b993b5137d9e36061ac2215eb9d4d9b0b645"
  },
  "kernelspec": {
   "display_name": "Python 3.7.7 64-bit ('rr-data': conda)",
   "name": "python3"
  },
  "language_info": {
   "codemirror_mode": {
    "name": "ipython",
    "version": 3
   },
   "file_extension": ".py",
   "mimetype": "text/x-python",
   "name": "python",
   "nbconvert_exporter": "python",
   "pygments_lexer": "ipython3",
   "version": "3.7.7"
  }
 },
 "nbformat": 4,
 "nbformat_minor": 4
}
