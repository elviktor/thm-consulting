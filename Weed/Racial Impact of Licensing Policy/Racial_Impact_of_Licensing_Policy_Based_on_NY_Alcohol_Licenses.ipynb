{
 "cells": [
  {
   "cell_type": "markdown",
   "metadata": {},
   "source": [
    "# Albany, NY Legal Marijuana Legislation: Racial Equity Focus\n",
    "#### Racial Impact of Licensing Policy Based on Alcohol Licenses"
   ]
  },
  {
   "cell_type": "markdown",
   "metadata": {},
   "source": [
    "![Albany census tract 25 with abutter marked abutters properties](img/tract_25_500ft_abutters_feature.jpg)\n",
    "<br>\n",
    "<i>Detail of South End's Census Tract 25. Red outlined properties are those that potentially would be unavailable for marijuana sales if licensing policy prohibits sales within 500ft of churches and or schools. Yellow outlined properties are churches or schools.</i>\n",
    "<br><br>"
   ]
  },
  {
   "cell_type": "markdown",
   "metadata": {},
   "source": [
    "Report by Marco Flagg\n",
    "<br>\n",
    "<span style=\"font-size:80%\">Email: mflagg.cflj@gmail.com</span>"
   ]
  },
  {
   "cell_type": "markdown",
   "metadata": {},
   "source": [
    "<div style=\"padding-top:50px; background-color:#eee;\"></div>"
   ]
  },
  {
   "cell_type": "markdown",
   "metadata": {},
   "source": [
    "### Executive Summary\n",
    "Equity is a core goal for the slate of marijuana policy coming to New York state in the [Marijuana Regulation and Taxation Act](https://cannabis.ny.gov/). For the policy to be truly equitable, majority Black communities of Albany that have suffered from over a century of systemic racist policies and the war on drugs - should not have to suffer additional harm. In fact those previously impacted communities should be assisted to gain the most from any new legal marijuana policy.\n",
    "<br><br>\n",
    "<u>Research Question</u>\n",
    "<br>\n",
    "With Albany, NY recently opting in to the legal marijuana industry, licensing policy is currently being developed. The following research looks to answer the following research question about the proposed licensing policy's racial impact: \n",
    "<br><br>\n",
    "<i>What is the racial impact of adopting marijuana policy based on tobacco licenses that require distances of at least 500ft from church and school properties?</i>\n",
    "<br><br>\n",
    "<u>Methodology</u>\n",
    "<br>\n",
    "To answer the above question, this research links census and local property data to give a rich picture of selected census tracts that represent North End, South End, Arbor Hill and Pine Hills districts. Basing research dataset boundaries on census tracts gives opportunities to link the [Mapgeo](https://albanyny.mapgeo.io/) tool's rich property information with the census's extensive historical demographic data. Combining micro and macro-level data will assist in tying local community phenomena to broader systemic issues and analyzing racial equity impact.\n",
    "<br><br>\n",
    "<u>Research Findings</u>\n",
    "<br>\n",
    "This report's research finds that if marijuana licenses are based on the distancing restrictions of current liquor license policy then South End and Arbor Hill - two of Albany's historic Black communities - will have the highest decrease in available properties zoned for mixed-use. Reducing the amount of available business space will put those Black and Brown community members at a disadvantage to their neighbors. Therefore the licensing policy that Albany is currently considering does not hold to the racial equity goals that are guiding NY state marijuana policy.\n",
    "<br><br>\n",
    "<u>Policy Recommendation</u>\n",
    "<br>\n",
    "In conclusion, this report recommends that Albany consider basing marijuana policy on current tobacco sales policy and or other policy that does not place distance-based restrictions on licenses.\n",
    "<br><br>\n",
    "Find a link to current NY guidance for retail tobacco dealers below:\n",
    "<br>\n",
    "[A Guide for Retail Tobacco Dealers](https://www.health.ny.gov/prevention/tobacco_control/retail_tobacco_dealers_guide.htm)\n",
    "<br><br>\n",
    "The NY state policies are sensible and stated with the purpose to reduce the exposure of youth to tobacco products. Among the dozen guidelines, only tobacco advertisements are restricted by distance. Reducing distance restrictions on businesses will cause less barriers to potential marijuana businesses across the city - including majority Black communities.\n",
    "<br><br>\n",
    "Lastly, the authors of this report recommend that the City of Albany conducts racial impact assessment before adopting this and other future policy related to the legal marijuana industry."
   ]
  },
  {
   "cell_type": "markdown",
   "metadata": {},
   "source": [
    "<div style=\"padding-top:50px; background-color:#eee;\"></div>"
   ]
  },
  {
   "cell_type": "markdown",
   "metadata": {},
   "source": [
    "### Part A: Research Methodology\n",
    "\n",
    "The following is a summary of the dataset characteristics and research methodology employed in this report."
   ]
  },
  {
   "cell_type": "markdown",
   "metadata": {},
   "source": [
    "#### 1. Dataset Characteristics\n",
    "\n",
    "<u>Census Tract Demographics</u>\n",
    "<br>\n",
    "Basing research dataset boundaries on census tracts gives opportunities to link the MapGeo tool's rich property information with the census's extensive historical demographic data. Combining micro and macro-level data will assist in tying local community phenomena to broader systemic issues. Therefore this approach is beneficial when analyzing racial equity impact.\n",
    "<br><br>\n",
    "For example, note in the below census tract demographics table that all four majority Black communities have lower median household incomes than the two majority White communities. The location of these income disparities can be traced back through the decades to at least the early twentieth century's redlining policy where the city and banking institutions enforced economic oppression targetted against those same Black communities."
   ]
  },
  {
   "cell_type": "code",
   "execution_count": 14,
   "metadata": {},
   "outputs": [
    {
     "data": {
      "text/html": [
       "<div>\n",
       "<style scoped>\n",
       "    .dataframe tbody tr th:only-of-type {\n",
       "        vertical-align: middle;\n",
       "    }\n",
       "\n",
       "    .dataframe tbody tr th {\n",
       "        vertical-align: top;\n",
       "    }\n",
       "\n",
       "    .dataframe thead th {\n",
       "        text-align: right;\n",
       "    }\n",
       "</style>\n",
       "<table border=\"1\" class=\"dataframe\">\n",
       "  <thead>\n",
       "    <tr style=\"text-align: right;\">\n",
       "      <th></th>\n",
       "      <th>place</th>\n",
       "      <th>zip_code</th>\n",
       "      <th>census_tract</th>\n",
       "      <th>majority_race</th>\n",
       "      <th>population</th>\n",
       "      <th>median_household_income</th>\n",
       "      <th>percent_owner_occupied_housing</th>\n",
       "    </tr>\n",
       "  </thead>\n",
       "  <tbody>\n",
       "    <tr>\n",
       "      <th>0</th>\n",
       "      <td>North Albany</td>\n",
       "      <td>12207</td>\n",
       "      <td>1</td>\n",
       "      <td>black</td>\n",
       "      <td>2073</td>\n",
       "      <td>32389</td>\n",
       "      <td>26.854599</td>\n",
       "    </tr>\n",
       "    <tr>\n",
       "      <th>1</th>\n",
       "      <td>Arbor Hill</td>\n",
       "      <td>12210</td>\n",
       "      <td>2</td>\n",
       "      <td>black</td>\n",
       "      <td>4793</td>\n",
       "      <td>27714</td>\n",
       "      <td>18.212694</td>\n",
       "    </tr>\n",
       "    <tr>\n",
       "      <th>2</th>\n",
       "      <td>Pine Hills</td>\n",
       "      <td>12208</td>\n",
       "      <td>16</td>\n",
       "      <td>white</td>\n",
       "      <td>4290</td>\n",
       "      <td>50417</td>\n",
       "      <td>35.429326</td>\n",
       "    </tr>\n",
       "    <tr>\n",
       "      <th>3</th>\n",
       "      <td>Pine Hills</td>\n",
       "      <td>12208</td>\n",
       "      <td>17</td>\n",
       "      <td>white</td>\n",
       "      <td>4016</td>\n",
       "      <td>63913</td>\n",
       "      <td>53.347681</td>\n",
       "    </tr>\n",
       "    <tr>\n",
       "      <th>4</th>\n",
       "      <td>South End</td>\n",
       "      <td>12202</td>\n",
       "      <td>25</td>\n",
       "      <td>black</td>\n",
       "      <td>3208</td>\n",
       "      <td>24425</td>\n",
       "      <td>5.723660</td>\n",
       "    </tr>\n",
       "    <tr>\n",
       "      <th>5</th>\n",
       "      <td>South End</td>\n",
       "      <td>12202</td>\n",
       "      <td>26</td>\n",
       "      <td>black</td>\n",
       "      <td>5179</td>\n",
       "      <td>38494</td>\n",
       "      <td>46.183206</td>\n",
       "    </tr>\n",
       "  </tbody>\n",
       "</table>\n",
       "</div>"
      ],
      "text/plain": [
       "          place  zip_code  census_tract majority_race  population  \\\n",
       "0  North Albany     12207             1         black        2073   \n",
       "1    Arbor Hill     12210             2         black        4793   \n",
       "2    Pine Hills     12208            16         white        4290   \n",
       "3    Pine Hills     12208            17         white        4016   \n",
       "4     South End     12202            25         black        3208   \n",
       "5     South End     12202            26         black        5179   \n",
       "\n",
       "   median_household_income  percent_owner_occupied_housing  \n",
       "0                    32389                       26.854599  \n",
       "1                    27714                       18.212694  \n",
       "2                    50417                       35.429326  \n",
       "3                    63913                       53.347681  \n",
       "4                    24425                        5.723660  \n",
       "5                    38494                       46.183206  "
      ]
     },
     "execution_count": 14,
     "metadata": {},
     "output_type": "execute_result"
    }
   ],
   "source": [
    "# Display Census Tract Demographics table\n",
    "ctract_demographics_df"
   ]
  },
  {
   "cell_type": "markdown",
   "metadata": {},
   "source": [
    "![Albany census tracts](img/albanycounty_censustract.jpg)\n",
    "<br>\n",
    "<i>Fig. 1) The highlighted borders of selected Albany census tracts.</i>\n",
    "<br><br>"
   ]
  },
  {
   "cell_type": "markdown",
   "metadata": {},
   "source": [
    "<u>Neighborhood Introductions</u>\n",
    "<br>\n",
    "<i>North Albany</i>\n",
    "<br>\n",
    "A redlined district that has the most industrial zoned property.\n",
    "<br><br>\n",
    "<i>Arbor Hill</i>\n",
    "<br>\n",
    "A redlined district that is showing change over recent years with the creation of new housing and gentrification.\n",
    "<br><br>\n",
    "<i>Pine Hills</i>\n",
    "<br>\n",
    "A majority White residential district influenced by the SUNY Albany and Saint Rose campuses located along Madison Avenue.\n",
    "<br><br>\n",
    "<i>South End</i>\n",
    "<br>\n",
    "A redlined district with a rich history and dynamic network of grassroots organizations. It has the highest levels of poverty and the lowest homeownership rates in the city.\n",
    "<br><br>"
   ]
  },
  {
   "cell_type": "markdown",
   "metadata": {},
   "source": [
    "#### 2. Methodology\n",
    "*For additional research details view the link below:\n",
    "<br>\n",
    "[Research Methodology Details](https://github.com/elviktor/thm-consulting/blob/main/Weed/Racial%20Impact%20of%20Licensing%20Policy/weed_license_policy_map_EDA_01_Data_Prep.ipynb)\n",
    "\n",
    "<u>Steps to create `Available Properties Datasets` for target census tracts:</u>\n",
    "<br>\n",
    "1) Select census tracts that represent the areas of comparison discussed in the above <i>Dataset Characteristics</i> section.\n",
    "\n",
    "2) Make [Mapgeo](https://albanyny.mapgeo.io/) tool selections that trace the target census tracts' borders. \n",
    "<br><br>\n",
    "![Census tract borders](img/available_property_01_censustract-total.jpg)\n",
    "<br>\n",
    "<i>Fig. 2) The borders of Census Tract 16.</i>\n",
    "<br><br>\n",
    "3) Export the target census tracts' metadata.\n",
    "\n",
    "4) Identify churches and schools by the census tracts' <i>Property Class</i> (codes 612, 615, 620).\n",
    "\n",
    "5) Use the [Mapgeo](https://albanyny.mapgeo.io/) tool to select church and school properties within selected census tracts.\n",
    "\n",
    "6) Discover abutters with [Mapgeo](https://albanyny.mapgeo.io/) tool.\n",
    "<br><br>\n",
    "![Discover abutters](img/available_property_03_abutters.jpg)\n",
    "<br>\n",
    "<i>Fig. 3) Unavailable properties in Census Tract 16 (those within 500ft of churches and or schools) are highlighted red.</i> \n",
    "<br><br>\n",
    "7) Create <i>Available Properties Datasets</i> made up of the properties that are outside of abutters zone that would possibly qualify for marijuana industry licenses in all selected census tracts. Use the following abutter distances (in feet): 500, 200, & 100.\n",
    "<br><br>\n",
    "![Available properties](img/available_property_04_available.jpg)\n",
    "<br>\n",
    "<i>Fig. 4) Available properties in Census Tract 16 (those further than 500ft from churches and or schools) are highlighted green.</i>\n",
    "<br><br>\n",
    "8) Perform analysis of the <i>Available Properties Datasets</i> in seperate notebook: \n",
    "<br>\n",
    "[Data Analysis Details](https://github.com/elviktor/thm-consulting/blob/main/Weed/Racial%20Impact%20of%20Licensing%20Policy/weed_license_policy_map_EDA_02_Available_Property_Exploration.ipynb)"
   ]
  },
  {
   "cell_type": "markdown",
   "metadata": {},
   "source": [
    "<div style=\"padding-top:50px; background-color:#eee;\"></div>"
   ]
  },
  {
   "cell_type": "markdown",
   "metadata": {},
   "source": [
    "### Part B: Analysis of the <i>Available Properties Datasets</i> for target census tracts\n",
    "\n",
    "<u>Research Question:</u>\n",
    "<br>\n",
    "What is the racial impact of adopting marijuana policy based on tobacco licenses that require distances of at least 500ft from church and school properties?"
   ]
  },
  {
   "cell_type": "markdown",
   "metadata": {},
   "source": [
    "#### 1. Prepare Data\n",
    "[View the Utilities Section](#available_zones_df_utililities) for code details."
   ]
  },
  {
   "cell_type": "markdown",
   "metadata": {},
   "source": [
    "#### 2. Compare Percentage Decrease in Available Properties"
   ]
  },
  {
   "cell_type": "markdown",
   "metadata": {},
   "source": [
    "Comparing the percentage of decrease in available mixed-use properties across census tracts and abutter distances can help us see if the distance requirements of a liquor license based policy would impact Albany neighborhoods equally.\n",
    "<br><br>\n",
    "The policy may not be equitable if percent decrease in available mixed-use properties (`mu_change`) is higher in majority Black neighborhoods (2, 25 & 26) compared to majority White neighborhoods (16 & 17)."
   ]
  },
  {
   "cell_type": "markdown",
   "metadata": {},
   "source": [
    "##### 3. Findings\n",
    "South End (<i>label prefix 25</i>) and Arbor Hill (<i>label prefix 02</i>) census tracts have the largest percentage decreases in available Mixed-Use (`mu`) districts when licensing restrictions of 500, 200 and 100 feet away from schools and churches are applied."
   ]
  },
  {
   "cell_type": "markdown",
   "metadata": {},
   "source": [
    "<u>a. Percentage change in available properties with 500ft license restriction</u>"
   ]
  },
  {
   "cell_type": "code",
   "execution_count": 6,
   "metadata": {},
   "outputs": [
    {
     "data": {
      "text/html": [
       "<div>\n",
       "<style scoped>\n",
       "    .dataframe tbody tr th:only-of-type {\n",
       "        vertical-align: middle;\n",
       "    }\n",
       "\n",
       "    .dataframe tbody tr th {\n",
       "        vertical-align: top;\n",
       "    }\n",
       "\n",
       "    .dataframe thead th {\n",
       "        text-align: right;\n",
       "    }\n",
       "</style>\n",
       "<table border=\"1\" class=\"dataframe\">\n",
       "  <thead>\n",
       "    <tr style=\"text-align: right;\">\n",
       "      <th></th>\n",
       "      <th>ctract</th>\n",
       "      <th>distance</th>\n",
       "      <th>r</th>\n",
       "      <th>mu</th>\n",
       "      <th>i</th>\n",
       "      <th>r_change</th>\n",
       "      <th>mu_change</th>\n",
       "      <th>i_change</th>\n",
       "    </tr>\n",
       "  </thead>\n",
       "  <tbody>\n",
       "    <tr>\n",
       "      <th>25-500</th>\n",
       "      <td>25</td>\n",
       "      <td>500</td>\n",
       "      <td>116</td>\n",
       "      <td>65</td>\n",
       "      <td>0</td>\n",
       "      <td>-83.333333</td>\n",
       "      <td>-82.432432</td>\n",
       "      <td>0.000000</td>\n",
       "    </tr>\n",
       "    <tr>\n",
       "      <th>02-500</th>\n",
       "      <td>02</td>\n",
       "      <td>500</td>\n",
       "      <td>259</td>\n",
       "      <td>79</td>\n",
       "      <td>8</td>\n",
       "      <td>-79.781421</td>\n",
       "      <td>-76.764706</td>\n",
       "      <td>-38.461538</td>\n",
       "    </tr>\n",
       "    <tr>\n",
       "      <th>16-500</th>\n",
       "      <td>16</td>\n",
       "      <td>500</td>\n",
       "      <td>422</td>\n",
       "      <td>30</td>\n",
       "      <td>0</td>\n",
       "      <td>-57.630522</td>\n",
       "      <td>-75.609756</td>\n",
       "      <td>0.000000</td>\n",
       "    </tr>\n",
       "    <tr>\n",
       "      <th>17-500</th>\n",
       "      <td>17</td>\n",
       "      <td>500</td>\n",
       "      <td>561</td>\n",
       "      <td>26</td>\n",
       "      <td>0</td>\n",
       "      <td>-48.151571</td>\n",
       "      <td>-69.047619</td>\n",
       "      <td>0.000000</td>\n",
       "    </tr>\n",
       "    <tr>\n",
       "      <th>26-500</th>\n",
       "      <td>26</td>\n",
       "      <td>500</td>\n",
       "      <td>575</td>\n",
       "      <td>122</td>\n",
       "      <td>17</td>\n",
       "      <td>-56.831832</td>\n",
       "      <td>-58.075601</td>\n",
       "      <td>-63.043478</td>\n",
       "    </tr>\n",
       "    <tr>\n",
       "      <th>01-500</th>\n",
       "      <td>01</td>\n",
       "      <td>500</td>\n",
       "      <td>364</td>\n",
       "      <td>98</td>\n",
       "      <td>11</td>\n",
       "      <td>-30.666667</td>\n",
       "      <td>-42.011834</td>\n",
       "      <td>-57.692308</td>\n",
       "    </tr>\n",
       "  </tbody>\n",
       "</table>\n",
       "</div>"
      ],
      "text/plain": [
       "       ctract distance    r   mu   i   r_change  mu_change   i_change\n",
       "25-500     25      500  116   65   0 -83.333333 -82.432432   0.000000\n",
       "02-500     02      500  259   79   8 -79.781421 -76.764706 -38.461538\n",
       "16-500     16      500  422   30   0 -57.630522 -75.609756   0.000000\n",
       "17-500     17      500  561   26   0 -48.151571 -69.047619   0.000000\n",
       "26-500     26      500  575  122  17 -56.831832 -58.075601 -63.043478\n",
       "01-500     01      500  364   98  11 -30.666667 -42.011834 -57.692308"
      ]
     },
     "execution_count": 6,
     "metadata": {},
     "output_type": "execute_result"
    }
   ],
   "source": [
    "# Display table of percentage change in residential (r_change), mixed use (mu_change) & industrial (i) properties in selected census tracts when license restriction is 500ft from schools and churches.\n",
    "graph_500_df = zone_change_df.query('distance == \"500\"').sort_values(by=['mu_change'])\n",
    "graph_500_df\n"
   ]
  },
  {
   "cell_type": "code",
   "execution_count": 7,
   "metadata": {},
   "outputs": [
    {
     "data": {
      "image/png": "[encoded data removed]",
      "text/plain": [
       "<Figure size 432x288 with 1 Axes>"
      ]
     },
     "metadata": {
      "needs_background": "light"
     },
     "output_type": "display_data"
    }
   ],
   "source": [
    "# Display graph of percentage change in residential (r_change), mixed use (mu_change) & industrial (i) properties in selected census tracts when license restriction is 500ft from schools and churches.\n",
    "graph_500_df.drop(labels=['r','mu','i'], axis=1, inplace=True)\n",
    "graph_500_df.plot(kind='bar');"
   ]
  },
  {
   "cell_type": "markdown",
   "metadata": {},
   "source": [
    "<u>b. Percentage change in available properties with 200ft license restriction</u>"
   ]
  },
  {
   "cell_type": "code",
   "execution_count": 8,
   "metadata": {},
   "outputs": [
    {
     "data": {
      "text/html": [
       "<div>\n",
       "<style scoped>\n",
       "    .dataframe tbody tr th:only-of-type {\n",
       "        vertical-align: middle;\n",
       "    }\n",
       "\n",
       "    .dataframe tbody tr th {\n",
       "        vertical-align: top;\n",
       "    }\n",
       "\n",
       "    .dataframe thead th {\n",
       "        text-align: right;\n",
       "    }\n",
       "</style>\n",
       "<table border=\"1\" class=\"dataframe\">\n",
       "  <thead>\n",
       "    <tr style=\"text-align: right;\">\n",
       "      <th></th>\n",
       "      <th>ctract</th>\n",
       "      <th>distance</th>\n",
       "      <th>r</th>\n",
       "      <th>mu</th>\n",
       "      <th>i</th>\n",
       "      <th>r_change</th>\n",
       "      <th>mu_change</th>\n",
       "      <th>i_change</th>\n",
       "    </tr>\n",
       "  </thead>\n",
       "  <tbody>\n",
       "    <tr>\n",
       "      <th>25-200</th>\n",
       "      <td>25</td>\n",
       "      <td>200</td>\n",
       "      <td>326</td>\n",
       "      <td>133</td>\n",
       "      <td>0</td>\n",
       "      <td>-53.160920</td>\n",
       "      <td>-64.054054</td>\n",
       "      <td>0.000000</td>\n",
       "    </tr>\n",
       "    <tr>\n",
       "      <th>02-200</th>\n",
       "      <td>02</td>\n",
       "      <td>200</td>\n",
       "      <td>813</td>\n",
       "      <td>180</td>\n",
       "      <td>9</td>\n",
       "      <td>-36.533958</td>\n",
       "      <td>-47.058824</td>\n",
       "      <td>-30.769231</td>\n",
       "    </tr>\n",
       "    <tr>\n",
       "      <th>16-200</th>\n",
       "      <td>16</td>\n",
       "      <td>200</td>\n",
       "      <td>695</td>\n",
       "      <td>76</td>\n",
       "      <td>0</td>\n",
       "      <td>-30.220884</td>\n",
       "      <td>-38.211382</td>\n",
       "      <td>0.000000</td>\n",
       "    </tr>\n",
       "    <tr>\n",
       "      <th>17-200</th>\n",
       "      <td>17</td>\n",
       "      <td>200</td>\n",
       "      <td>811</td>\n",
       "      <td>53</td>\n",
       "      <td>0</td>\n",
       "      <td>-25.046211</td>\n",
       "      <td>-36.904762</td>\n",
       "      <td>0.000000</td>\n",
       "    </tr>\n",
       "    <tr>\n",
       "      <th>26-200</th>\n",
       "      <td>26</td>\n",
       "      <td>200</td>\n",
       "      <td>1012</td>\n",
       "      <td>212</td>\n",
       "      <td>36</td>\n",
       "      <td>-24.024024</td>\n",
       "      <td>-27.147766</td>\n",
       "      <td>-21.739130</td>\n",
       "    </tr>\n",
       "    <tr>\n",
       "      <th>01-200</th>\n",
       "      <td>01</td>\n",
       "      <td>200</td>\n",
       "      <td>427</td>\n",
       "      <td>128</td>\n",
       "      <td>21</td>\n",
       "      <td>-18.666667</td>\n",
       "      <td>-24.260355</td>\n",
       "      <td>-19.230769</td>\n",
       "    </tr>\n",
       "  </tbody>\n",
       "</table>\n",
       "</div>"
      ],
      "text/plain": [
       "       ctract distance     r   mu   i   r_change  mu_change   i_change\n",
       "25-200     25      200   326  133   0 -53.160920 -64.054054   0.000000\n",
       "02-200     02      200   813  180   9 -36.533958 -47.058824 -30.769231\n",
       "16-200     16      200   695   76   0 -30.220884 -38.211382   0.000000\n",
       "17-200     17      200   811   53   0 -25.046211 -36.904762   0.000000\n",
       "26-200     26      200  1012  212  36 -24.024024 -27.147766 -21.739130\n",
       "01-200     01      200   427  128  21 -18.666667 -24.260355 -19.230769"
      ]
     },
     "execution_count": 8,
     "metadata": {},
     "output_type": "execute_result"
    }
   ],
   "source": [
    "# Display table of percentage change in residential (r_change), mixed use (mu_change) & industrial (i) properties in selected census tracts when license restriction is 500ft from schools and churches.\n",
    "graph_200_df = zone_change_df.query('distance == \"200\"').sort_values(by=['mu_change'])\n",
    "graph_200_df"
   ]
  },
  {
   "cell_type": "code",
   "execution_count": 12,
   "metadata": {},
   "outputs": [
    {
     "data": {
      "image/png": "[encoded data removed]",
      "text/plain": [
       "<Figure size 432x288 with 1 Axes>"
      ]
     },
     "metadata": {
      "needs_background": "light"
     },
     "output_type": "display_data"
    }
   ],
   "source": [
    "# Display graph of percentage change in residential (r_change), mixed use (mu_change) & industrial (i) properties in selected census tracts when license restriction is 200ft from schools and churches.\n",
    "graph_200_df.drop(labels=['r','mu','i'], axis=1, inplace=True)\n",
    "graph_200_df.plot(kind='bar');"
   ]
  },
  {
   "cell_type": "markdown",
   "metadata": {},
   "source": [
    "<u>c. Percentage change in available properties with 100ft license restriction</u>"
   ]
  },
  {
   "cell_type": "code",
   "execution_count": 10,
   "metadata": {},
   "outputs": [
    {
     "data": {
      "text/html": [
       "<div>\n",
       "<style scoped>\n",
       "    .dataframe tbody tr th:only-of-type {\n",
       "        vertical-align: middle;\n",
       "    }\n",
       "\n",
       "    .dataframe tbody tr th {\n",
       "        vertical-align: top;\n",
       "    }\n",
       "\n",
       "    .dataframe thead th {\n",
       "        text-align: right;\n",
       "    }\n",
       "</style>\n",
       "<table border=\"1\" class=\"dataframe\">\n",
       "  <thead>\n",
       "    <tr style=\"text-align: right;\">\n",
       "      <th></th>\n",
       "      <th>ctract</th>\n",
       "      <th>distance</th>\n",
       "      <th>r</th>\n",
       "      <th>mu</th>\n",
       "      <th>i</th>\n",
       "      <th>r_change</th>\n",
       "      <th>mu_change</th>\n",
       "      <th>i_change</th>\n",
       "    </tr>\n",
       "  </thead>\n",
       "  <tbody>\n",
       "    <tr>\n",
       "      <th>25-100</th>\n",
       "      <td>25</td>\n",
       "      <td>100</td>\n",
       "      <td>496</td>\n",
       "      <td>200</td>\n",
       "      <td>0</td>\n",
       "      <td>-28.735632</td>\n",
       "      <td>-45.945946</td>\n",
       "      <td>0.000000</td>\n",
       "    </tr>\n",
       "    <tr>\n",
       "      <th>02-100</th>\n",
       "      <td>02</td>\n",
       "      <td>100</td>\n",
       "      <td>1004</td>\n",
       "      <td>225</td>\n",
       "      <td>9</td>\n",
       "      <td>-21.623731</td>\n",
       "      <td>-33.823529</td>\n",
       "      <td>-30.769231</td>\n",
       "    </tr>\n",
       "    <tr>\n",
       "      <th>17-100</th>\n",
       "      <td>17</td>\n",
       "      <td>100</td>\n",
       "      <td>862</td>\n",
       "      <td>58</td>\n",
       "      <td>0</td>\n",
       "      <td>-20.332717</td>\n",
       "      <td>-30.952381</td>\n",
       "      <td>0.000000</td>\n",
       "    </tr>\n",
       "    <tr>\n",
       "      <th>16-100</th>\n",
       "      <td>16</td>\n",
       "      <td>100</td>\n",
       "      <td>791</td>\n",
       "      <td>90</td>\n",
       "      <td>0</td>\n",
       "      <td>-20.582329</td>\n",
       "      <td>-26.829268</td>\n",
       "      <td>0.000000</td>\n",
       "    </tr>\n",
       "    <tr>\n",
       "      <th>26-100</th>\n",
       "      <td>26</td>\n",
       "      <td>100</td>\n",
       "      <td>1154</td>\n",
       "      <td>232</td>\n",
       "      <td>37</td>\n",
       "      <td>-13.363363</td>\n",
       "      <td>-20.274914</td>\n",
       "      <td>-19.565217</td>\n",
       "    </tr>\n",
       "    <tr>\n",
       "      <th>01-100</th>\n",
       "      <td>01</td>\n",
       "      <td>100</td>\n",
       "      <td>466</td>\n",
       "      <td>144</td>\n",
       "      <td>21</td>\n",
       "      <td>-11.238095</td>\n",
       "      <td>-14.792899</td>\n",
       "      <td>-19.230769</td>\n",
       "    </tr>\n",
       "  </tbody>\n",
       "</table>\n",
       "</div>"
      ],
      "text/plain": [
       "       ctract distance     r   mu   i   r_change  mu_change   i_change\n",
       "25-100     25      100   496  200   0 -28.735632 -45.945946   0.000000\n",
       "02-100     02      100  1004  225   9 -21.623731 -33.823529 -30.769231\n",
       "17-100     17      100   862   58   0 -20.332717 -30.952381   0.000000\n",
       "16-100     16      100   791   90   0 -20.582329 -26.829268   0.000000\n",
       "26-100     26      100  1154  232  37 -13.363363 -20.274914 -19.565217\n",
       "01-100     01      100   466  144  21 -11.238095 -14.792899 -19.230769"
      ]
     },
     "execution_count": 10,
     "metadata": {},
     "output_type": "execute_result"
    }
   ],
   "source": [
    "# Display table of percentage change in residential (r_change), mixed use (mu_change) & industrial (i) properties in selected census tracts when license restriction is 100ft from schools and churches.\n",
    "graph_100_df = zone_change_df.query('distance == \"100\"').sort_values(by=['mu_change'])\n",
    "graph_100_df"
   ]
  },
  {
   "cell_type": "code",
   "execution_count": 13,
   "metadata": {},
   "outputs": [
    {
     "data": {
      "image/png": "[encoded data removed]",
      "text/plain": [
       "<Figure size 432x288 with 1 Axes>"
      ]
     },
     "metadata": {
      "needs_background": "light"
     },
     "output_type": "display_data"
    }
   ],
   "source": [
    "# Display graph of percentage change in residential (r_change), mixed use (mu_change) & industrial (i) properties in selected census tracts when license restriction is 100ft from schools and churches.\n",
    "graph_100_df.drop(labels=['r','mu','i'], axis=1, inplace=True)\n",
    "graph_100_df.plot(kind='bar');"
   ]
  },
  {
   "cell_type": "markdown",
   "metadata": {},
   "source": [
    "#### Outcome\n",
    "For the coming slate of marijuana policy to be truly equitable, majority Black communities of Albany that have suffered from over a century of systemic racist policies and the war on drugs - should not have to suffer additional harm. Yet, the above analysis shows that if marijuana licenses are based on the distancing restrictions of current liquor license policy South End and Arbor Hill - two of Albany's historic Black communities - will have the highest decrease in available properties zoned for mixed-use. Reducing the amount of available business space will put those Black and Brown community members at a disadvantage to their neighbors. Therefore the licensing policy that Albany is currently considering does not hold to the racial equity goals that are guiding NY state marijuana policy."
   ]
  },
  {
   "cell_type": "markdown",
   "metadata": {},
   "source": [
    "#### Recommendation\n",
    "We recommend that Albany bases marijuana policy on current tobacco sales policy that does not place distance-based restrictions on licenses.\n",
    "<br><br>\n",
    "Find a link to current NY guidance for retail tobacco dealers below:\n",
    "<br>\n",
    "[A Guide for Retail Tobacco Dealers](https://www.health.ny.gov/prevention/tobacco_control/retail_tobacco_dealers_guide.htm)\n",
    "<br><br>\n",
    "The NY state policies are sensible and stated with the purpose to reduce the exposure of youth to tobacco products. Among the dozen guidelines, only tobacco advertisements are restricted by distance. Reducing distance restrictions on businesses will cause less barriers to potential marijuana businesses across the city - including majority Black communities."
   ]
  },
  {
   "cell_type": "markdown",
   "metadata": {},
   "source": [
    "<div style=\"padding-top:50px; background-color:#eee;\"></div>"
   ]
  },
  {
   "cell_type": "markdown",
   "metadata": {},
   "source": [
    "#### Utilities"
   ]
  },
  {
   "cell_type": "code",
   "execution_count": null,
   "metadata": {},
   "outputs": [],
   "source": [
    "# Import required libraries\n",
    "import pandas as pd\n",
    "import numpy as np\n",
    "import matplotlib.pyplot as plt\n",
    "import os\n",
    "\n",
    "# helpers.py has several helpful utilities that I have created\n",
    "from helpers import available_zones_df_generator, available_change_df_generator\n",
    "\n",
    "%matplotlib inline "
   ]
  },
  {
   "cell_type": "code",
   "execution_count": null,
   "metadata": {},
   "outputs": [],
   "source": [
    "# Import DataFrames\n",
    "ctract_demographics_df = pd.read_csv(os.path.join('data','albany_census_tract_demographics.csv'))"
   ]
  },
  {
   "cell_type": "code",
   "execution_count": null,
   "metadata": {},
   "outputs": [],
   "source": [
    "# ENTER selected Census Tracts in following list variable:\n",
    "CTRACT_LIST = ['01','02','16','17','25','26']\n",
    "DISTANCE_LIST = ['0', '100', '200', '500']"
   ]
  },
  {
   "cell_type": "markdown",
   "metadata": {},
   "source": [
    "<a id='available_zones_df_utililities'></a>"
   ]
  },
  {
   "cell_type": "code",
   "execution_count": null,
   "metadata": {},
   "outputs": [],
   "source": [
    "# Generate tally of available residential (r), mixed use (mu) & industrial (i) property zones using `helpers.py` script.\n",
    "zone_count_df = available_zones_df_generator(CTRACT_LIST, DISTANCE_LIST)\n",
    "\n",
    "# Rename and drop columns.\n",
    "zone_count_df.drop(labels=\"LC\", inplace=True, axis=1)\n",
    "zone_count_df.rename(columns=lambda x: x.strip().lower().replace(\" \", \"_\"), inplace=True)"
   ]
  },
  {
   "cell_type": "code",
   "execution_count": null,
   "metadata": {},
   "outputs": [],
   "source": [
    "# Generate percentage change of available property zones using helpers.py script.\n",
    "zone_change_df = available_change_df_generator(CTRACT_LIST, DISTANCE_LIST, zone_count_df)"
   ]
  },
  {
   "cell_type": "markdown",
   "metadata": {},
   "source": [
    "<div style=\"padding-top:50px; background-color:#eee;\"></div>"
   ]
  }
 ],
 "metadata": {
  "interpreter": {
   "hash": "bd967e6073c831b810a9807d2f67b993b5137d9e36061ac2215eb9d4d9b0b645"
  },
  "kernelspec": {
   "display_name": "Python 3.7.7 64-bit ('rr-data': conda)",
   "name": "python3"
  },
  "language_info": {
   "codemirror_mode": {
    "name": "ipython",
    "version": 3
   },
   "file_extension": ".py",
   "mimetype": "text/x-python",
   "name": "python",
   "nbconvert_exporter": "python",
   "pygments_lexer": "ipython3",
   "version": "3.7.7"
  }
 },
 "nbformat": 4,
 "nbformat_minor": 4
}
